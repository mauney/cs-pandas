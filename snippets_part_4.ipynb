{
 "cells": [
  {
   "cell_type": "code",
   "execution_count": 1,
   "metadata": {},
   "outputs": [],
   "source": [
    "people = {\n",
    "    \"first\": ['Corey', 'Jane', 'John'],\n",
    "    \"last\": ['Schafer', 'Doe', 'Doe'],\n",
    "    \"email\": ['CoreyMSchafer@email.com', 'JaneDoe@email.com', 'JohnDoe@email.com']\n",
    "}"
   ]
  },
  {
   "cell_type": "code",
   "execution_count": 2,
   "metadata": {},
   "outputs": [],
   "source": [
    "import pandas as pd"
   ]
  },
  {
   "cell_type": "code",
   "execution_count": 3,
   "metadata": {},
   "outputs": [],
   "source": [
    "df = pd.DataFrame(people)"
   ]
  },
  {
   "cell_type": "code",
   "execution_count": 4,
   "metadata": {},
   "outputs": [
    {
     "output_type": "execute_result",
     "data": {
      "text/plain": "   first     last                    email\n0  Corey  Schafer  CoreyMSchafer@email.com\n1   Jane      Doe        JaneDoe@email.com\n2   John      Doe        JohnDoe@email.com",
      "text/html": "<div>\n<style scoped>\n    .dataframe tbody tr th:only-of-type {\n        vertical-align: middle;\n    }\n\n    .dataframe tbody tr th {\n        vertical-align: top;\n    }\n\n    .dataframe thead th {\n        text-align: right;\n    }\n</style>\n<table border=\"1\" class=\"dataframe\">\n  <thead>\n    <tr style=\"text-align: right;\">\n      <th></th>\n      <th>first</th>\n      <th>last</th>\n      <th>email</th>\n    </tr>\n  </thead>\n  <tbody>\n    <tr>\n      <th>0</th>\n      <td>Corey</td>\n      <td>Schafer</td>\n      <td>CoreyMSchafer@email.com</td>\n    </tr>\n    <tr>\n      <th>1</th>\n      <td>Jane</td>\n      <td>Doe</td>\n      <td>JaneDoe@email.com</td>\n    </tr>\n    <tr>\n      <th>2</th>\n      <td>John</td>\n      <td>Doe</td>\n      <td>JohnDoe@email.com</td>\n    </tr>\n  </tbody>\n</table>\n</div>"
     },
     "metadata": {},
     "execution_count": 4
    }
   ],
   "source": [
    "df"
   ]
  },
  {
   "cell_type": "code",
   "execution_count": 5,
   "metadata": {},
   "outputs": [
    {
     "output_type": "execute_result",
     "data": {
      "text/plain": "0    False\n1     True\n2     True\nName: last, dtype: bool"
     },
     "metadata": {},
     "execution_count": 5
    }
   ],
   "source": [
    "df['last'] == 'Doe'"
   ]
  },
  {
   "cell_type": "code",
   "execution_count": 7,
   "metadata": {},
   "outputs": [
    {
     "output_type": "execute_result",
     "data": {
      "text/plain": "  first last              email\n1  Jane  Doe  JaneDoe@email.com\n2  John  Doe  JohnDoe@email.com",
      "text/html": "<div>\n<style scoped>\n    .dataframe tbody tr th:only-of-type {\n        vertical-align: middle;\n    }\n\n    .dataframe tbody tr th {\n        vertical-align: top;\n    }\n\n    .dataframe thead th {\n        text-align: right;\n    }\n</style>\n<table border=\"1\" class=\"dataframe\">\n  <thead>\n    <tr style=\"text-align: right;\">\n      <th></th>\n      <th>first</th>\n      <th>last</th>\n      <th>email</th>\n    </tr>\n  </thead>\n  <tbody>\n    <tr>\n      <th>1</th>\n      <td>Jane</td>\n      <td>Doe</td>\n      <td>JaneDoe@email.com</td>\n    </tr>\n    <tr>\n      <th>2</th>\n      <td>John</td>\n      <td>Doe</td>\n      <td>JohnDoe@email.com</td>\n    </tr>\n  </tbody>\n</table>\n</div>"
     },
     "metadata": {},
     "execution_count": 7
    }
   ],
   "source": [
    "filt = (df['last'] == 'Doe')\n",
    "df[filt]"
   ]
  },
  {
   "cell_type": "code",
   "execution_count": 8,
   "metadata": {},
   "outputs": [
    {
     "output_type": "execute_result",
     "data": {
      "text/plain": "  first last              email\n1  Jane  Doe  JaneDoe@email.com\n2  John  Doe  JohnDoe@email.com",
      "text/html": "<div>\n<style scoped>\n    .dataframe tbody tr th:only-of-type {\n        vertical-align: middle;\n    }\n\n    .dataframe tbody tr th {\n        vertical-align: top;\n    }\n\n    .dataframe thead th {\n        text-align: right;\n    }\n</style>\n<table border=\"1\" class=\"dataframe\">\n  <thead>\n    <tr style=\"text-align: right;\">\n      <th></th>\n      <th>first</th>\n      <th>last</th>\n      <th>email</th>\n    </tr>\n  </thead>\n  <tbody>\n    <tr>\n      <th>1</th>\n      <td>Jane</td>\n      <td>Doe</td>\n      <td>JaneDoe@email.com</td>\n    </tr>\n    <tr>\n      <th>2</th>\n      <td>John</td>\n      <td>Doe</td>\n      <td>JohnDoe@email.com</td>\n    </tr>\n  </tbody>\n</table>\n</div>"
     },
     "metadata": {},
     "execution_count": 8
    }
   ],
   "source": [
    "# alternative to above syntax\n",
    "df.loc[filt]"
   ]
  },
  {
   "cell_type": "code",
   "execution_count": 10,
   "metadata": {},
   "outputs": [
    {
     "output_type": "execute_result",
     "data": {
      "text/plain": "1    JaneDoe@email.com\n2    JohnDoe@email.com\nName: email, dtype: object"
     },
     "metadata": {},
     "execution_count": 10
    }
   ],
   "source": [
    "# .loc is helpful to filter columns as well as rows\n",
    "df.loc[filt, 'email']"
   ]
  },
  {
   "cell_type": "code",
   "execution_count": 12,
   "metadata": {},
   "outputs": [
    {
     "output_type": "execute_result",
     "data": {
      "text/plain": "2    JohnDoe@email.com\nName: email, dtype: object"
     },
     "metadata": {},
     "execution_count": 12
    }
   ],
   "source": [
    "# 'and' and 'or': & and |\n",
    "filt = (df['last'] == 'Doe') & (df['first'] == 'John')\n",
    "df.loc[filt, 'email']"
   ]
  },
  {
   "cell_type": "code",
   "execution_count": 13,
   "metadata": {},
   "outputs": [
    {
     "output_type": "execute_result",
     "data": {
      "text/plain": "0    CoreyMSchafer@email.com\n2          JohnDoe@email.com\nName: email, dtype: object"
     },
     "metadata": {},
     "execution_count": 13
    }
   ],
   "source": [
    "filt = (df['last'] == 'Schafer') | (df['first'] == 'John')\n",
    "df.loc[filt, 'email']"
   ]
  },
  {
   "cell_type": "code",
   "execution_count": 14,
   "metadata": {},
   "outputs": [
    {
     "output_type": "execute_result",
     "data": {
      "text/plain": "1    JaneDoe@email.com\nName: email, dtype: object"
     },
     "metadata": {},
     "execution_count": 14
    }
   ],
   "source": [
    "# opposite of a filter\n",
    "df.loc[~filt, 'email']"
   ]
  },
  {
   "cell_type": "code",
   "execution_count": null,
   "metadata": {},
   "outputs": [],
   "source": []
  }
 ],
 "metadata": {
  "language_info": {
   "codemirror_mode": {
    "name": "ipython",
    "version": 3
   },
   "file_extension": ".py",
   "mimetype": "text/x-python",
   "name": "python",
   "nbconvert_exporter": "python",
   "pygments_lexer": "ipython3",
   "version": "3.6.9-final"
  },
  "orig_nbformat": 2,
  "kernelspec": {
   "name": "python36964bitvenvvenv483f5820e2874046950d2858f3582e26",
   "display_name": "Python 3.6.9 64-bit ('venv': venv)"
  }
 },
 "nbformat": 4,
 "nbformat_minor": 2
}